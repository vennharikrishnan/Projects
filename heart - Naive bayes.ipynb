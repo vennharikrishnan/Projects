{
 "cells": [
  {
   "cell_type": "code",
   "execution_count": 16,
   "id": "08715302",
   "metadata": {},
   "outputs": [],
   "source": [
    "import numpy as np\n",
    "import pandas as pd "
   ]
  },
  {
   "cell_type": "code",
   "execution_count": 17,
   "id": "27b8ba52",
   "metadata": {},
   "outputs": [],
   "source": [
    "h=pd.read_csv(\"/home/harwick/Downloads/heart.csv\")\n",
    "x=h.iloc[:,:-1]\n",
    "y=h.iloc[:,-1]\n",
    "from sklearn.model_selection import train_test_split\n",
    "x_train,x_test,y_train,y_test=train_test_split(x,y,test_size=0.3,random_state=40)\n",
    "# from sklearn import preprocessing (optional, doesn't change the result)\n",
    "# import numpy as np\n",
    "# min_max_scaler=preprocessing.MinMaxScaler()\n",
    "# min_max_scaler.fit(x_train)\n",
    "# x_train=min_max_scaler.transform(x_train)\n",
    "# x_test=min_max_scaler.transform(x_test)"
   ]
  },
  {
   "cell_type": "code",
   "execution_count": 18,
   "id": "63024e32",
   "metadata": {},
   "outputs": [],
   "source": [
    "from sklearn.naive_bayes import GaussianNB\n",
    "model=GaussianNB()\n",
    "model.fit(x_train,y_train)\n",
    "y_pred=model.predict(x_test)"
   ]
  },
  {
   "cell_type": "code",
   "execution_count": 19,
   "id": "c91e5ee7",
   "metadata": {},
   "outputs": [
    {
     "name": "stdout",
     "output_type": "stream",
     "text": [
      "0.8051948051948052\n",
      "              precision    recall  f1-score   support\n",
      "\n",
      "           0       0.84      0.75      0.79       153\n",
      "           1       0.77      0.86      0.82       155\n",
      "\n",
      "    accuracy                           0.81       308\n",
      "   macro avg       0.81      0.80      0.80       308\n",
      "weighted avg       0.81      0.81      0.80       308\n",
      "\n"
     ]
    }
   ],
   "source": [
    "from sklearn.metrics import classification_report,accuracy_score,confusion_matrix\n",
    "result=classification_report(y_test,y_pred)\n",
    "print(accuracy_score(y_test,y_pred))\n",
    "print(result)"
   ]
  },
  {
   "cell_type": "code",
   "execution_count": null,
   "id": "dc967d19",
   "metadata": {},
   "outputs": [],
   "source": []
  }
 ],
 "metadata": {
  "kernelspec": {
   "display_name": "Python 3",
   "language": "python",
   "name": "python3"
  },
  "language_info": {
   "codemirror_mode": {
    "name": "ipython",
    "version": 3
   },
   "file_extension": ".py",
   "mimetype": "text/x-python",
   "name": "python",
   "nbconvert_exporter": "python",
   "pygments_lexer": "ipython3",
   "version": "3.9.12"
  }
 },
 "nbformat": 4,
 "nbformat_minor": 5
}
