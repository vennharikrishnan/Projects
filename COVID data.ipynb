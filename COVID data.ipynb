{
 "cells": [
  {
   "cell_type": "code",
   "execution_count": null,
   "id": "34d7d6d7",
   "metadata": {},
   "outputs": [],
   "source": [
    "import numpy as np\n",
    "import pandas as pd \n",
    "import matplotlib.pyplot as plt\n"
   ]
  },
  {
   "cell_type": "code",
   "execution_count": null,
   "id": "3fcf962e",
   "metadata": {},
   "outputs": [],
   "source": [
    "df=pd.read_csv(\"/home/harwick/Downloads/owid-covid-data.csv\")"
   ]
  },
  {
   "cell_type": "code",
   "execution_count": null,
   "id": "58acd71d",
   "metadata": {},
   "outputs": [],
   "source": [
    "df.describe()\n"
   ]
  },
  {
   "cell_type": "code",
   "execution_count": null,
   "id": "ee40ee1f",
   "metadata": {},
   "outputs": [],
   "source": [
    "df.rename(columns={'date':'Date','location':'Country','continent':'Continent'},inplace=True)\n",
    "print(df.head(5))\n"
   ]
  },
  {
   "cell_type": "code",
   "execution_count": null,
   "id": "8a3c1b41",
   "metadata": {},
   "outputs": [],
   "source": [
    "continent_names=list(df.Continent.unique())\n",
    "print(continent_names)"
   ]
  },
  {
   "cell_type": "code",
   "execution_count": null,
   "id": "76bca361",
   "metadata": {},
   "outputs": [],
   "source": [
    "from sklearn.impute  import SimpleImputer\n",
    "imputer= SimpleImputer(strategy='constant')\n",
    "df2=pd.DataFrame(imputer.fit_transform(df),columns=df.columns)\n",
    "print(df2)"
   ]
  },
  {
   "cell_type": "code",
   "execution_count": 32,
   "id": "ca8c4d05",
   "metadata": {},
   "outputs": [
    {
     "name": "stdout",
     "output_type": "stream",
     "text": [
      "              Date            Country    total_cases   total_deaths  \\\n",
      "0       2020-01-01          Argentina  missing_value  missing_value   \n",
      "1       2020-01-01             Mexico  missing_value  missing_value   \n",
      "2       2020-01-02          Argentina  missing_value  missing_value   \n",
      "3       2020-01-02             Mexico  missing_value  missing_value   \n",
      "4       2020-01-03          Argentina  missing_value  missing_value   \n",
      "...            ...                ...            ...            ...   \n",
      "212862  2022-08-30  Wallis and Futuna          761.0            7.0   \n",
      "212863  2022-08-30              World    602173911.0      6490351.0   \n",
      "212864  2022-08-30              Yemen        11926.0         2155.0   \n",
      "212865  2022-08-30             Zambia       332822.0         4016.0   \n",
      "212866  2022-08-30           Zimbabwe       256708.0         5593.0   \n",
      "\n",
      "       total_vaccinations  \n",
      "0           missing_value  \n",
      "1           missing_value  \n",
      "2           missing_value  \n",
      "3           missing_value  \n",
      "4           missing_value  \n",
      "...                   ...  \n",
      "212862      missing_value  \n",
      "212863      12571712668.0  \n",
      "212864      missing_value  \n",
      "212865      missing_value  \n",
      "212866      missing_value  \n",
      "\n",
      "[212867 rows x 5 columns]\n"
     ]
    }
   ],
   "source": [
    "\n",
    "df3 = df2.groupby(['Date','Country'])[['total_cases','total_deaths','total_vaccinations']].sum().reset_index()\n",
    "\n",
    "print(df3)"
   ]
  },
  {
   "cell_type": "code",
   "execution_count": 33,
   "id": "e8a15638",
   "metadata": {},
   "outputs": [
    {
     "name": "stdout",
     "output_type": "stream",
     "text": [
      "0                 0.0\n",
      "1                 0.0\n",
      "2                 0.0\n",
      "3                 0.0\n",
      "4                 0.0\n",
      "             ...     \n",
      "212862          761.0\n",
      "212863    602173911.0\n",
      "212864        11926.0\n",
      "212865       332822.0\n",
      "212866       256708.0\n",
      "Name: total_cases, Length: 212867, dtype: float64\n",
      "0               0.0\n",
      "1               0.0\n",
      "2               0.0\n",
      "3               0.0\n",
      "4               0.0\n",
      "            ...    \n",
      "212862          7.0\n",
      "212863    6490351.0\n",
      "212864       2155.0\n",
      "212865       4016.0\n",
      "212866       5593.0\n",
      "Name: total_deaths, Length: 212867, dtype: float64\n",
      "0         0.000000e+00\n",
      "1         0.000000e+00\n",
      "2         0.000000e+00\n",
      "3         0.000000e+00\n",
      "4         0.000000e+00\n",
      "              ...     \n",
      "212862    0.000000e+00\n",
      "212863    1.257171e+10\n",
      "212864    0.000000e+00\n",
      "212865    0.000000e+00\n",
      "212866    0.000000e+00\n",
      "Name: total_vaccinations, Length: 212867, dtype: float64\n"
     ]
    }
   ],
   "source": [
    "#replacing missing value with 0\n",
    "# covid3['total_cases'].replace({'missing_value':0},inplace=True)\n",
    "# print(covid3['total_cases'])\n",
    "# covid3['total_deaths'].replace({'missing_value':0},inplace=True)\n",
    "# print(covid3['total_deaths'])\n",
    "# covid3['total_vaccinations'].replace({'missing_value':0},inplace=True)\n",
    "# print(covid3['total_vaccinations'])\n",
    "df3['total_cases'].replace({'missing_value':0},inplace=True)\n",
    "print(df3['total_cases'])\n",
    "df3['total_deaths'].replace({'missing_value':0},inplace=True)\n",
    "print(df3['total_deaths'])\n",
    "df3['total_vaccinations'].replace({'missing_value':0},inplace=True)\n",
    "print(df3['total_vaccinations'])"
   ]
  },
  {
   "cell_type": "code",
   "execution_count": 34,
   "id": "22426b6b",
   "metadata": {},
   "outputs": [
    {
     "name": "stdout",
     "output_type": "stream",
     "text": [
      "10\n",
      "['World' 'High income' 'Upper middle income' 'Europe' 'South America'\n",
      " 'Asia' 'Lower middle income' 'North America' 'European Union'\n",
      " 'United States']\n"
     ]
    }
   ],
   "source": [
    "covid4=df3[df3['total_deaths']>1000000]\n",
    "countries=covid4['Country'].unique()\n",
    "print(len(countries))\n",
    "print(countries)"
   ]
  },
  {
   "cell_type": "markdown",
   "id": "a86a1b24",
   "metadata": {},
   "source": [
    "for idx in range (0,len(countries)):\n",
    "    c=covid4[covid4['Country']==countries[idx]].reset_index()\n",
    "    plt.scatter(np.arange(0,len(c)),c['total_cases'],color='blue',label=\"total_cases\")\n",
    "    plt.scatter(np.arange(0,len(c)),c['total_deaths'],color='red',label=\"total_deaths\")\n",
    "    plt.scatter(np.arange(0,len(c)),c['total_vaccinations'],color='green',label=\"total_vaccinations\")\n",
    "    plt.title(countries[idx],size=15)\n",
    "    plt.xlabel(\"Number of days since first suspect\")\n",
    "    plt.ylabel(\"Number of cases\")\n",
    "    plt.legend()\n",
    "    plt.show()\n"
   ]
  }
 ],
 "metadata": {
  "kernelspec": {
   "display_name": "Python 3",
   "language": "python",
   "name": "python3"
  },
  "language_info": {
   "codemirror_mode": {
    "name": "ipython",
    "version": 3
   },
   "file_extension": ".py",
   "mimetype": "text/x-python",
   "name": "python",
   "nbconvert_exporter": "python",
   "pygments_lexer": "ipython3",
   "version": "3.9.12"
  }
 },
 "nbformat": 4,
 "nbformat_minor": 5
}
